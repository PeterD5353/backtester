{
 "cells": [
  {
   "cell_type": "code",
   "execution_count": 1,
   "metadata": {},
   "outputs": [],
   "source": [
    "import pandas as pd \n",
    "import yfinance as yf\n",
    "import matplotlib.pyplot as plt\n",
    "import numpy as np"
   ]
  },
  {
   "cell_type": "code",
   "execution_count": 2,
   "metadata": {},
   "outputs": [],
   "source": [
    "# import data from wikipedia\n",
    "tickers = pd.read_html(\"https://en.wikipedia.org/wiki/List_of_S%26P_500_companies\")[0]"
   ]
  },
  {
   "cell_type": "code",
   "execution_count": 3,
   "metadata": {},
   "outputs": [],
   "source": [
    "# get list of all tickers \n",
    "tickers = tickers.Symbol.to_list()"
   ]
  },
  {
   "cell_type": "code",
   "execution_count": 4,
   "metadata": {},
   "outputs": [],
   "source": [
    "# replace . with -\n",
    "tickers = [i.replace(\".\", \"-\") for i in tickers]"
   ]
  },
  {
   "cell_type": "code",
   "execution_count": 5,
   "metadata": {},
   "outputs": [],
   "source": [
    "# define start and end dates (change later to textboxes)\n",
    "start = \"2011-01-01\"\n",
    "end = \"2022-01-01\""
   ]
  },
  {
   "cell_type": "code",
   "execution_count": 6,
   "metadata": {},
   "outputs": [],
   "source": [
    "# Moving Average Crossover\n",
    "# get moving average values\n",
    "ma1 = 20\n",
    "ma2 = 50\n",
    "\n",
    "\n",
    "def movingAverageCalc(asset):\n",
    "    df = yf.download(asset, start = start, end = end)\n",
    "    df[\"MA\" + str(ma1)] = df['Adj Close'].rolling(window=ma1).mean()\n",
    "    df[\"MA\" + str(ma2)] = df['Adj Close'].rolling(window=ma2).mean()\n",
    "\n",
    "    # df.loc[(df[\"MA\" + str(ma1)] > df[\"MA\" + str(ma2)]), 'Buy'] = \"Yes\"\n",
    "    # df.loc[(df[\"MA\" + str(ma1)] > df[\"MA\" + str(ma2)]), 'Buy'] = \"No\"\n",
    "\n",
    "    df['Signal'] = np.where(df[\"MA\" + str(ma1)] > df[\"MA\" + str(ma2)], 1, 0)\n",
    "    df['Position'] = df['Signal'].diff()\n",
    "\n",
    "    df.loc[(df['Position'] == 1), 'Buy'] = \"Yes\"\n",
    "    df.loc[(df['Position'] == -1), 'Buy'] = \"Sell\"\n",
    "\n",
    "    \n",
    "    return df\n",
    "    "
   ]
  },
  {
   "cell_type": "code",
   "execution_count": 8,
   "metadata": {},
   "outputs": [],
   "source": [
    "def movingAverageCalc(asset, start, end, ma1, ma2):\n",
    "    try:\n",
    "        df = yf.download(asset, start=start, end=end)\n",
    "    except:\n",
    "        exception += \"Make sure to input a valid ticker symbol./n Make sure Start date is before End Date./n\"\n",
    "    df[\"MA\" + str(ma1)] = df['Adj Close'].rolling(window=ma1).mean()\n",
    "    df[\"MA\" + str(ma2)] = df['Adj Close'].rolling(window=ma2).mean()\n",
    "\n",
    "    df['Signal'] = np.where(df[\"MA\" + str(ma1)] > df[\"MA\" + str(ma2)], 1, 0)\n",
    "    df['Position'] = df['Signal'].diff()\n",
    "\n",
    "    df.loc[(df['Position'] == 1), 'Buy'] = \"Yes\"\n",
    "    df.loc[(df['Position'] == -1), 'Buy'] = \"Sell\"\n",
    "\n",
    "    return df"
   ]
  },
  {
   "cell_type": "code",
   "execution_count": 9,
   "metadata": {},
   "outputs": [
    {
     "name": "stdout",
     "output_type": "stream",
     "text": [
      "[*********************100%***********************]  1 of 1 completed\n"
     ]
    },
    {
     "data": {
      "text/html": [
       "<div>\n",
       "<style scoped>\n",
       "    .dataframe tbody tr th:only-of-type {\n",
       "        vertical-align: middle;\n",
       "    }\n",
       "\n",
       "    .dataframe tbody tr th {\n",
       "        vertical-align: top;\n",
       "    }\n",
       "\n",
       "    .dataframe thead th {\n",
       "        text-align: right;\n",
       "    }\n",
       "</style>\n",
       "<table border=\"1\" class=\"dataframe\">\n",
       "  <thead>\n",
       "    <tr style=\"text-align: right;\">\n",
       "      <th></th>\n",
       "      <th>Open</th>\n",
       "      <th>High</th>\n",
       "      <th>Low</th>\n",
       "      <th>Close</th>\n",
       "      <th>Adj Close</th>\n",
       "      <th>Volume</th>\n",
       "      <th>MA20</th>\n",
       "      <th>MA50</th>\n",
       "      <th>Signal</th>\n",
       "      <th>Position</th>\n",
       "      <th>Buy</th>\n",
       "    </tr>\n",
       "    <tr>\n",
       "      <th>Date</th>\n",
       "      <th></th>\n",
       "      <th></th>\n",
       "      <th></th>\n",
       "      <th></th>\n",
       "      <th></th>\n",
       "      <th></th>\n",
       "      <th></th>\n",
       "      <th></th>\n",
       "      <th></th>\n",
       "      <th></th>\n",
       "      <th></th>\n",
       "    </tr>\n",
       "  </thead>\n",
       "  <tbody>\n",
       "    <tr>\n",
       "      <th>2011-01-03</th>\n",
       "      <td>86.750000</td>\n",
       "      <td>87.330002</td>\n",
       "      <td>86.739998</td>\n",
       "      <td>86.790001</td>\n",
       "      <td>60.800976</td>\n",
       "      <td>2632800</td>\n",
       "      <td>NaN</td>\n",
       "      <td>NaN</td>\n",
       "      <td>0</td>\n",
       "      <td>NaN</td>\n",
       "      <td>NaN</td>\n",
       "    </tr>\n",
       "    <tr>\n",
       "      <th>2011-01-04</th>\n",
       "      <td>87.000000</td>\n",
       "      <td>87.279999</td>\n",
       "      <td>86.279999</td>\n",
       "      <td>86.669998</td>\n",
       "      <td>60.716934</td>\n",
       "      <td>2644100</td>\n",
       "      <td>NaN</td>\n",
       "      <td>NaN</td>\n",
       "      <td>0</td>\n",
       "      <td>0.0</td>\n",
       "      <td>NaN</td>\n",
       "    </tr>\n",
       "    <tr>\n",
       "      <th>2011-01-05</th>\n",
       "      <td>86.290001</td>\n",
       "      <td>87.900002</td>\n",
       "      <td>86.120003</td>\n",
       "      <td>86.669998</td>\n",
       "      <td>60.716934</td>\n",
       "      <td>4081300</td>\n",
       "      <td>NaN</td>\n",
       "      <td>NaN</td>\n",
       "      <td>0</td>\n",
       "      <td>0.0</td>\n",
       "      <td>NaN</td>\n",
       "    </tr>\n",
       "    <tr>\n",
       "      <th>2011-01-06</th>\n",
       "      <td>86.860001</td>\n",
       "      <td>87.190002</td>\n",
       "      <td>85.629997</td>\n",
       "      <td>86.139999</td>\n",
       "      <td>60.345631</td>\n",
       "      <td>3452600</td>\n",
       "      <td>NaN</td>\n",
       "      <td>NaN</td>\n",
       "      <td>0</td>\n",
       "      <td>0.0</td>\n",
       "      <td>NaN</td>\n",
       "    </tr>\n",
       "    <tr>\n",
       "      <th>2011-01-07</th>\n",
       "      <td>86.550003</td>\n",
       "      <td>87.309998</td>\n",
       "      <td>85.949997</td>\n",
       "      <td>86.230003</td>\n",
       "      <td>60.408665</td>\n",
       "      <td>3355500</td>\n",
       "      <td>NaN</td>\n",
       "      <td>NaN</td>\n",
       "      <td>0</td>\n",
       "      <td>0.0</td>\n",
       "      <td>NaN</td>\n",
       "    </tr>\n",
       "    <tr>\n",
       "      <th>...</th>\n",
       "      <td>...</td>\n",
       "      <td>...</td>\n",
       "      <td>...</td>\n",
       "      <td>...</td>\n",
       "      <td>...</td>\n",
       "      <td>...</td>\n",
       "      <td>...</td>\n",
       "      <td>...</td>\n",
       "      <td>...</td>\n",
       "      <td>...</td>\n",
       "      <td>...</td>\n",
       "    </tr>\n",
       "    <tr>\n",
       "      <th>2021-12-27</th>\n",
       "      <td>175.149994</td>\n",
       "      <td>176.729996</td>\n",
       "      <td>174.910004</td>\n",
       "      <td>176.699997</td>\n",
       "      <td>167.297440</td>\n",
       "      <td>1183000</td>\n",
       "      <td>165.247170</td>\n",
       "      <td>168.221699</td>\n",
       "      <td>0</td>\n",
       "      <td>0.0</td>\n",
       "      <td>NaN</td>\n",
       "    </tr>\n",
       "    <tr>\n",
       "      <th>2021-12-28</th>\n",
       "      <td>176.839996</td>\n",
       "      <td>178.500000</td>\n",
       "      <td>176.750000</td>\n",
       "      <td>177.639999</td>\n",
       "      <td>168.187424</td>\n",
       "      <td>1618900</td>\n",
       "      <td>165.313920</td>\n",
       "      <td>168.168086</td>\n",
       "      <td>0</td>\n",
       "      <td>0.0</td>\n",
       "      <td>NaN</td>\n",
       "    </tr>\n",
       "    <tr>\n",
       "      <th>2021-12-29</th>\n",
       "      <td>177.479996</td>\n",
       "      <td>178.889999</td>\n",
       "      <td>177.229996</td>\n",
       "      <td>178.410004</td>\n",
       "      <td>168.916458</td>\n",
       "      <td>1221900</td>\n",
       "      <td>165.710152</td>\n",
       "      <td>168.133186</td>\n",
       "      <td>0</td>\n",
       "      <td>0.0</td>\n",
       "      <td>NaN</td>\n",
       "    </tr>\n",
       "    <tr>\n",
       "      <th>2021-12-30</th>\n",
       "      <td>178.869995</td>\n",
       "      <td>179.179993</td>\n",
       "      <td>177.580002</td>\n",
       "      <td>177.639999</td>\n",
       "      <td>168.187424</td>\n",
       "      <td>1067300</td>\n",
       "      <td>166.037267</td>\n",
       "      <td>168.072623</td>\n",
       "      <td>0</td>\n",
       "      <td>0.0</td>\n",
       "      <td>NaN</td>\n",
       "    </tr>\n",
       "    <tr>\n",
       "      <th>2021-12-31</th>\n",
       "      <td>177.529999</td>\n",
       "      <td>178.350006</td>\n",
       "      <td>176.509995</td>\n",
       "      <td>177.630005</td>\n",
       "      <td>168.177963</td>\n",
       "      <td>1414600</td>\n",
       "      <td>166.386159</td>\n",
       "      <td>168.009806</td>\n",
       "      <td>0</td>\n",
       "      <td>0.0</td>\n",
       "      <td>NaN</td>\n",
       "    </tr>\n",
       "  </tbody>\n",
       "</table>\n",
       "<p>2769 rows × 11 columns</p>\n",
       "</div>"
      ],
      "text/plain": [
       "                  Open        High         Low       Close   Adj Close  \\\n",
       "Date                                                                     \n",
       "2011-01-03   86.750000   87.330002   86.739998   86.790001   60.800976   \n",
       "2011-01-04   87.000000   87.279999   86.279999   86.669998   60.716934   \n",
       "2011-01-05   86.290001   87.900002   86.120003   86.669998   60.716934   \n",
       "2011-01-06   86.860001   87.190002   85.629997   86.139999   60.345631   \n",
       "2011-01-07   86.550003   87.309998   85.949997   86.230003   60.408665   \n",
       "...                ...         ...         ...         ...         ...   \n",
       "2021-12-27  175.149994  176.729996  174.910004  176.699997  167.297440   \n",
       "2021-12-28  176.839996  178.500000  176.750000  177.639999  168.187424   \n",
       "2021-12-29  177.479996  178.889999  177.229996  178.410004  168.916458   \n",
       "2021-12-30  178.869995  179.179993  177.580002  177.639999  168.187424   \n",
       "2021-12-31  177.529999  178.350006  176.509995  177.630005  168.177963   \n",
       "\n",
       "             Volume        MA20        MA50  Signal  Position  Buy  \n",
       "Date                                                                \n",
       "2011-01-03  2632800         NaN         NaN       0       NaN  NaN  \n",
       "2011-01-04  2644100         NaN         NaN       0       0.0  NaN  \n",
       "2011-01-05  4081300         NaN         NaN       0       0.0  NaN  \n",
       "2011-01-06  3452600         NaN         NaN       0       0.0  NaN  \n",
       "2011-01-07  3355500         NaN         NaN       0       0.0  NaN  \n",
       "...             ...         ...         ...     ...       ...  ...  \n",
       "2021-12-27  1183000  165.247170  168.221699       0       0.0  NaN  \n",
       "2021-12-28  1618900  165.313920  168.168086       0       0.0  NaN  \n",
       "2021-12-29  1221900  165.710152  168.133186       0       0.0  NaN  \n",
       "2021-12-30  1067300  166.037267  168.072623       0       0.0  NaN  \n",
       "2021-12-31  1414600  166.386159  168.009806       0       0.0  NaN  \n",
       "\n",
       "[2769 rows x 11 columns]"
      ]
     },
     "execution_count": 9,
     "metadata": {},
     "output_type": "execute_result"
    }
   ],
   "source": [
    "#movingAverageCalc(tickers[0])\n",
    "movingAverageCalc(tickers[0], start, end, ma1, ma2)"
   ]
  },
  {
   "cell_type": "code",
   "execution_count": 11,
   "metadata": {},
   "outputs": [],
   "source": [
    "def getSignals(df):\n",
    "    Buying_dates = []\n",
    "    Selling_dates = []\n",
    "\n",
    "    for i in range(len(df)):\n",
    "        if df[\"Buy\"].iloc[i] == \"Yes\": \n",
    "            Buying_dates.append(df.iloc[i+1].name)\n",
    "        elif df[\"Buy\"].iloc[i] == \"Sell\":\n",
    "            Selling_dates.append(df.iloc[i+1].name)\n",
    "    return Buying_dates, Selling_dates"
   ]
  },
  {
   "cell_type": "code",
   "execution_count": 14,
   "metadata": {},
   "outputs": [
    {
     "name": "stdout",
     "output_type": "stream",
     "text": [
      "[*********************100%***********************]  1 of 1 completed\n"
     ]
    }
   ],
   "source": [
    "frame = movingAverageCalc(tickers[0], start, end, ma1, ma2)\n",
    "buy, sell = getSignals(frame)"
   ]
  },
  {
   "cell_type": "code",
   "execution_count": 15,
   "metadata": {},
   "outputs": [
    {
     "data": {
      "text/plain": [
       "[<matplotlib.lines.Line2D at 0x7fc971aa9e10>]"
      ]
     },
     "execution_count": 15,
     "metadata": {},
     "output_type": "execute_result"
    },
    {
     "data": {
      "image/png": "[encoded data removed]",
      "text/plain": [
       "<Figure size 1200x500 with 1 Axes>"
      ]
     },
     "metadata": {},
     "output_type": "display_data"
    }
   ],
   "source": [
    "plt.figure(figsize=(12,5))\n",
    "plt.scatter(frame.loc[buy].index, frame.loc[buy]['Adj Close'], marker = '^', c='g')\n",
    "plt.scatter(frame.loc[sell].index, frame.loc[buy]['Adj Close'], marker = 'v', c='r')\n",
    "plt.plot(frame['Adj Close'], alpha=.07)"
   ]
  },
  {
   "cell_type": "code",
   "execution_count": 13,
   "metadata": {},
   "outputs": [
    {
     "data": {
      "text/plain": [
       "array([ 0.02110942, -0.14076818,  0.10563025, -0.02708286, -0.01511926,\n",
       "        0.28585349,  0.06641981,  0.07664515, -0.07028605,  0.06243176,\n",
       "       -0.00053416,  0.15017585,  0.03880217,  0.126484  ,  0.09755862,\n",
       "        0.02305695, -0.03361345, -0.08516775, -0.09441852, -0.04891994,\n",
       "       -0.06292553, -0.07765712, -0.04699128,  0.03237957, -0.00353694,\n",
       "        0.07631399, -0.02604791, -0.07708188])"
      ]
     },
     "execution_count": 13,
     "metadata": {},
     "output_type": "execute_result"
    }
   ],
   "source": [
    "# calculate profits of first ticker\n",
    "Profits = (frame.loc[sell].Open.values - frame.loc[buy].Open.values)/frame.loc[buy].Open.values\n",
    "Profits"
   ]
  },
  {
   "cell_type": "code",
   "execution_count": 14,
   "metadata": {},
   "outputs": [
    {
     "data": {
      "text/plain": [
       "0.4642857142857143"
      ]
     },
     "execution_count": 14,
     "metadata": {},
     "output_type": "execute_result"
    }
   ],
   "source": [
    "# winning rate \n",
    "wins = [i for i in Profits if i >0]\n",
    "len(wins)/ len(Profits)"
   ]
  },
  {
   "cell_type": "code",
   "execution_count": null,
   "metadata": {},
   "outputs": [],
   "source": []
  }
 ],
 "metadata": {
  "kernelspec": {
   "display_name": "Python 3",
   "language": "python",
   "name": "python3"
  },
  "language_info": {
   "codemirror_mode": {
    "name": "ipython",
    "version": 3
   },
   "file_extension": ".py",
   "mimetype": "text/x-python",
   "name": "python",
   "nbconvert_exporter": "python",
   "pygments_lexer": "ipython3",
   "version": "3.10.6"
  },
  "orig_nbformat": 4,
  "vscode": {
   "interpreter": {
    "hash": "916dbcbb3f70747c44a77c7bcd40155683ae19c65e1c03b4aa3499c5328201f1"
   }
  }
 },
 "nbformat": 4,
 "nbformat_minor": 2
}
